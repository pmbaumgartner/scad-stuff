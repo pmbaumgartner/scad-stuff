{
 "cells": [
  {
   "cell_type": "code",
   "execution_count": 1,
   "metadata": {},
   "outputs": [],
   "source": [
    "from solid import *\n",
    "from solid.utils import *  # Not required, but the utils module is useful\n",
    "import viewscad"
   ]
  },
  {
   "cell_type": "code",
   "execution_count": 2,
   "metadata": {},
   "outputs": [],
   "source": [
    "r = viewscad.Renderer()"
   ]
  },
  {
   "cell_type": "code",
   "execution_count": 29,
   "metadata": {},
   "outputs": [],
   "source": [
    "# Variables\n",
    "BASE_DIAMETER = 70\n",
    "BASE_HEIGHT = 78\n",
    "CUP_DIAMETER = 87\n",
    "CUP_HEIGHT = 116\n",
    "INSERT_HEIGHT = 35\n",
    "CUP_ADDL_RADIUS = 1\n",
    "PLATE_HEIGHT = 5\n",
    "NOTCH_WIDTH = 20\n",
    "WALL_THICKNESS = 3.2\n",
    "SEGMENTS = 60\n",
    "DRAINAGE_DIAMETER = BASE_DIAMETER/2\n",
    "\n",
    "# Derived\n",
    "BASE_RADIUS = (\n",
    "    BASE_DIAMETER / 2\n",
    ") - 0.5  # This fits INTO the cup holder, so lets try for smaller\n",
    "BASE_HEIGHT_NO_INSERT = BASE_HEIGHT - INSERT_HEIGHT  # The insert comes from the top\n",
    "CUP_RADIUS = (\n",
    "    CUP_DIAMETER / 2\n",
    ") + 1  # This should contain the cup, so lets try for larger\n",
    "\n",
    "\n",
    "base = difference()(\n",
    "    cylinder(r=BASE_RADIUS, h=BASE_HEIGHT_NO_INSERT, segments=SEGMENTS),\n",
    "    cylinder(\n",
    "        r=BASE_RADIUS - WALL_THICKNESS, h=BASE_HEIGHT_NO_INSERT, segments=SEGMENTS\n",
    "    ),\n",
    ")\n",
    "\n",
    "\n",
    "top = up(BASE_HEIGHT_NO_INSERT + PLATE_HEIGHT)(\n",
    "    difference()(\n",
    "        cylinder(\n",
    "            r=CUP_RADIUS + WALL_THICKNESS + CUP_ADDL_RADIUS,\n",
    "            h=CUP_HEIGHT / 2,\n",
    "            segments=SEGMENTS,\n",
    "        ),\n",
    "        cylinder(r=CUP_RADIUS + CUP_ADDL_RADIUS, h=CUP_HEIGHT / 2, segments=SEGMENTS),\n",
    "    )\n",
    ")\n",
    "plate = up(BASE_HEIGHT_NO_INSERT)(\n",
    "    cylinder(\n",
    "        r=CUP_RADIUS + WALL_THICKNESS + CUP_ADDL_RADIUS,\n",
    "        h=PLATE_HEIGHT,\n",
    "        segments=SEGMENTS,\n",
    "    )\n",
    ")\n",
    "\n",
    "drainage = cylinder(d=DRAINAGE_DIAMETER, h=BASE_HEIGHT_NO_INSERT + PLATE_HEIGHT)\n",
    "\n",
    "scadfile = import_scad(\"../common/roundedrectdiff.scad\")\n",
    "\n",
    "# old\n",
    "handle_notch = translate((CUP_RADIUS - 5, 0, BASE_HEIGHT_NO_INSERT + PLATE_HEIGHT))(\n",
    "    cube(size=[NOTCH_WIDTH, NOTCH_WIDTH, CUP_HEIGHT], center=True)\n",
    ")\n",
    "\n",
    "# new\n",
    "handle_notch = translate(\n",
    "    (\n",
    "        CUP_RADIUS - WALL_THICKNESS,\n",
    "        0,\n",
    "        BASE_HEIGHT_NO_INSERT + PLATE_HEIGHT + (CUP_HEIGHT / 4),\n",
    "    )\n",
    ")(\n",
    "    rotate([90, 270, 90])(\n",
    "        linear_extrude(WALL_THICKNESS * 3)(\n",
    "            scadfile.rounded_subtraction_square_top(CUP_HEIGHT / 2, NOTCH_WIDTH, 5)\n",
    "        )\n",
    "    )\n",
    ")\n",
    "handle_notch2 = rotate([0,0,(360/3)])(handle_notch)\n",
    "handle_notch3 = rotate([0,0,(360/3)*2])(handle_notch)\n",
    "\n",
    "\n",
    "complete = base + (plate - drainage) + (top - (handle_notch + handle_notch2 + handle_notch3))\n"
   ]
  },
  {
   "cell_type": "code",
   "execution_count": 30,
   "metadata": {},
   "outputs": [
    {
     "name": "stderr",
     "output_type": "stream",
     "text": [
      "Geometries in cache: 31\n",
      "Geometry cache size in bytes: 87664\n",
      "CGAL Polyhedrons in cache: 7\n",
      "CGAL cache size in bytes: 2649680\n",
      "Total rendering time: 0:00:10.992\n",
      "   Top level object is a 3D object:\n",
      "   Simple:        yes\n",
      "   Vertices:      618\n",
      "   Halfedges:    1854\n",
      "   Edges:         927\n",
      "   Halffacets:    626\n",
      "   Facets:        313\n",
      "   Volumes:         2\n",
      "/Users/peter/miniconda3/envs/py-open-scad/lib/python3.8/site-packages/jupyter_client/session.py:718: UserWarning: Message serialization failed with:\n",
      "Out of range float values are not JSON compliant\n",
      "Supporting this message is deprecated in jupyter-client 7, please make sure your message is JSON-compliant\n",
      "  content = self.pack(content)\n"
     ]
    },
    {
     "data": {
      "application/vnd.jupyter.widget-view+json": {
       "model_id": "7f6493939bc3493c857c4094c5f176fa",
       "version_major": 2,
       "version_minor": 0
      },
      "text/plain": [
       "VBox(children=(HTML(value=''), Renderer(background='#cccc88', background_opacity=0.0, camera=PerspectiveCamera…"
      ]
     },
     "metadata": {},
     "output_type": "display_data"
    }
   ],
   "source": [
    "r.render(complete)"
   ]
  },
  {
   "cell_type": "code",
   "execution_count": 19,
   "metadata": {},
   "outputs": [
    {
     "name": "stdout",
     "output_type": "stream",
     "text": [
      "use </Users/peter/projects/py-open-scad/cupholder/../common/roundedrectdiff.scad>\n",
      "\n",
      "\n",
      "union() {\n",
      "\tdifference() {\n",
      "\t\tcylinder($fn = 60, h = 43, r = 34.5000000000);\n",
      "\t\tcylinder($fn = 60, h = 43, r = 31.3000000000);\n",
      "\t}\n",
      "\ttranslate(v = [0, 0, 43]) {\n",
      "\t\tcylinder($fn = 60, h = 5, r = 48.7000000000);\n",
      "\t}\n",
      "\tdifference() {\n",
      "\t\ttranslate(v = [0, 0, 48]) {\n",
      "\t\t\tdifference() {\n",
      "\t\t\t\tcylinder($fn = 60, h = 58.0000000000, r = 48.7000000000);\n",
      "\t\t\t\tcylinder($fn = 60, h = 58.0000000000, r = 45.5000000000);\n",
      "\t\t\t}\n",
      "\t\t}\n",
      "\t\tcolor(alpha = 1.0000000000, c = \"red\") {\n",
      "\t\t\ttranslate(v = [41.3000000000, 0, 77.0000000000]) {\n",
      "\t\t\t\trotate(a = [90, 270, 90]) {\n",
      "\t\t\t\t\tlinear_extrude(height = 9.6000000000) {\n",
      "\t\t\t\t\t\trounded_subtraction_square_top(height = 58.0000000000, radius = 5, width = 20);\n",
      "\t\t\t\t\t}\n",
      "\t\t\t\t}\n",
      "\t\t\t}\n",
      "\t\t}\n",
      "\t}\n",
      "}\n"
     ]
    }
   ],
   "source": [
    "print(scad_render(complete))"
   ]
  },
  {
   "cell_type": "code",
   "execution_count": 31,
   "metadata": {},
   "outputs": [
    {
     "data": {
      "text/plain": [
       "'/Users/peter/projects/py-open-scad/cupholder/cupholder3.scad'"
      ]
     },
     "execution_count": 31,
     "metadata": {},
     "output_type": "execute_result"
    }
   ],
   "source": [
    "scad_render_to_file(complete, \"cupholder3.scad\")"
   ]
  },
  {
   "cell_type": "code",
   "execution_count": null,
   "metadata": {},
   "outputs": [],
   "source": [
    "!openscad "
   ]
  }
 ],
 "metadata": {
  "kernelspec": {
   "display_name": "Python 3.8.13 ('py-open-scad')",
   "language": "python",
   "name": "python3"
  },
  "language_info": {
   "codemirror_mode": {
    "name": "ipython",
    "version": 3
   },
   "file_extension": ".py",
   "mimetype": "text/x-python",
   "name": "python",
   "nbconvert_exporter": "python",
   "pygments_lexer": "ipython3",
   "version": "3.8.13"
  },
  "orig_nbformat": 4,
  "vscode": {
   "interpreter": {
    "hash": "ee3447709a83cb0ad9f1aaf45cfc11dd0d0647705bb4725ccc6e0b8685aff5f7"
   }
  }
 },
 "nbformat": 4,
 "nbformat_minor": 2
}
