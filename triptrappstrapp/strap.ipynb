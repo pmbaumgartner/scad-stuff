{
 "cells": [
  {
   "cell_type": "code",
   "execution_count": 40,
   "metadata": {},
   "outputs": [],
   "source": [
    "from solid import *\n",
    "from solid.utils import *\n",
    "\n",
    "from itertools import product\n",
    "import numpy as np"
   ]
  },
  {
   "cell_type": "code",
   "execution_count": 13,
   "metadata": {},
   "outputs": [
    {
     "data": {
      "text/plain": [
       "[(1, 10), (1, 14), (-1, 10), (-1, 14)]"
      ]
     },
     "execution_count": 13,
     "metadata": {},
     "output_type": "execute_result"
    }
   ],
   "source": [
    "list(product((1, -1), (10, 14)))"
   ]
  },
  {
   "cell_type": "code",
   "execution_count": 38,
   "metadata": {},
   "outputs": [
    {
     "data": {
      "text/plain": [
       "'/Users/peter/projects/py-open-scad/triptrappstrapp/strap.scad'"
      ]
     },
     "execution_count": 38,
     "metadata": {},
     "output_type": "execute_result"
    }
   ],
   "source": [
    "width = 88\n",
    "height = 40\n",
    "depth = 4\n",
    "\n",
    "slot_width = 4\n",
    "slot_length = 22\n",
    "h_slot_width = slot_width * 1.5\n",
    "\n",
    "spheres = []\n",
    "for x, y in product((width, 0), (0, height)):\n",
    "    s = translate([x, y])(sphere(d=depth, segments=30))\n",
    "    spheres.append(s)\n",
    "\n",
    "locs = [(28, 10), (-28, 10), (28, -10), (-28, -10)]\n",
    "slots = []\n",
    "for x, y in locs:\n",
    "    slot = linear_extrude(5)(\n",
    "        translate([x, y])((square([slot_length, slot_width], center=True)))\n",
    "    )\n",
    "    slots.append(slot)\n",
    "\n",
    "all_slots = union()(*slots)\n",
    "\n",
    "horizontal_slot_locations = [-28, 28]\n",
    "h_slots = []\n",
    "for x in horizontal_slot_locations:\n",
    "    slot = linear_extrude(5)(translate([x, 0])(square([h_slot_width, 20], center=True)))\n",
    "    h_slots.append(slot)\n",
    "\n",
    "all_h_slots = union()(*h_slots)\n",
    "\n",
    "outer = translate([-width / 2, -height / 2, depth / 2])(hull()(*spheres))\n",
    "\n",
    "result = outer - (all_slots + all_h_slots)\n",
    "scad_render_to_file(result, \"strap.scad\")\n"
   ]
  },
  {
   "cell_type": "markdown",
   "metadata": {},
   "source": [
    "### Strap 2"
   ]
  },
  {
   "cell_type": "code",
   "execution_count": 61,
   "metadata": {},
   "outputs": [
    {
     "data": {
      "text/plain": [
       "'/Users/peter/projects/py-open-scad/triptrappstrapp/strap2.scad'"
      ]
     },
     "execution_count": 61,
     "metadata": {},
     "output_type": "execute_result"
    }
   ],
   "source": [
    "width = 88\n",
    "height = 36\n",
    "depth = 4\n",
    "\n",
    "slot_distance = 28\n",
    "slot_width = 4\n",
    "slot_length = 22  # Lori wants 24, originally 22\n",
    "h_slot_width = slot_width * 1.5\n",
    "\n",
    "circle_diameter = height\n",
    "circle_radius = circle_diameter / 2\n",
    "circle_center = width - (circle_diameter * 1.5)\n",
    "\n",
    "rule = translate([0, 10, depth + 2])(color(\"red\")(square([28, 1], center=True)))\n",
    "\n",
    "\n",
    "def unit_xy(angle):\n",
    "    return np.cos(angle), np.sin(angle)\n",
    "\n",
    "\n",
    "n_spheres = 100\n",
    "spheres = []\n",
    "for center in (circle_center, -circle_center):\n",
    "    for angle in np.linspace(0, 2 * np.pi, n_spheres, endpoint=False):\n",
    "        x, y = unit_xy(angle)\n",
    "        x_c = x * (circle_radius - (depth/2))\n",
    "        y_c = y * (circle_radius - (depth/2))\n",
    "        s = translate([center + x_c, y_c, 0])(sphere(d=depth, segments=30))\n",
    "        spheres.append(s)\n",
    "\n",
    "# spheres = []\n",
    "# for x, y in product((width, 0), (0, height)):\n",
    "#     s = translate([x, y])(sphere(d=depth, segments=30))\n",
    "#     spheres.append(s)\n",
    "\n",
    "outer = translate([0, 0, depth / 2])(hull()(*spheres))\n",
    "\n",
    "\n",
    "slot_center = (slot_distance / 2) + (slot_length / 2)\n",
    "locs = [(slot_center, 10), (-slot_center, 10), (slot_center, -10), (-slot_center, -10)]\n",
    "slots = []\n",
    "for x, y in locs:\n",
    "    slot = linear_extrude(5)(\n",
    "        translate([x, y])((square([slot_length, slot_width], center=True)))\n",
    "    )\n",
    "    slots.append(slot)\n",
    "\n",
    "all_slots = union()(*slots)\n",
    "\n",
    "horizontal_slot_locations = [-slot_center, slot_center]\n",
    "h_slots = []\n",
    "for x in horizontal_slot_locations:\n",
    "    slot = linear_extrude(5)(translate([x, 0])(square([h_slot_width, 20], center=True)))\n",
    "    h_slots.append(slot)\n",
    "\n",
    "all_h_slots = union()(*h_slots)\n",
    "\n",
    "initial = translate([0,0,depth/2])(linear_extrude(depth/2)(text(\"C\", size=20, halign=\"center\", valign=\"center\")))\n",
    "result = outer - (all_slots + all_h_slots)\n",
    "scad_render_to_file(result, \"strap2.scad\")\n"
   ]
  },
  {
   "cell_type": "code",
   "execution_count": null,
   "metadata": {},
   "outputs": [],
   "source": []
  }
 ],
 "metadata": {
  "kernelspec": {
   "display_name": "Python 3.8.13 ('py-open-scad')",
   "language": "python",
   "name": "python3"
  },
  "language_info": {
   "codemirror_mode": {
    "name": "ipython",
    "version": 3
   },
   "file_extension": ".py",
   "mimetype": "text/x-python",
   "name": "python",
   "nbconvert_exporter": "python",
   "pygments_lexer": "ipython3",
   "version": "3.8.13"
  },
  "orig_nbformat": 4,
  "vscode": {
   "interpreter": {
    "hash": "ee3447709a83cb0ad9f1aaf45cfc11dd0d0647705bb4725ccc6e0b8685aff5f7"
   }
  }
 },
 "nbformat": 4,
 "nbformat_minor": 2
}
