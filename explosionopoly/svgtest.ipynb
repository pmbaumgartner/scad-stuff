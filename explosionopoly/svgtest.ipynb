{
 "cells": [
  {
   "cell_type": "code",
   "execution_count": 34,
   "metadata": {},
   "outputs": [],
   "source": [
    "from pathlib import Path\n",
    "from uuid import uuid4\n",
    "from hashlib import md5\n",
    "from tempfile import NamedTemporaryFile\n",
    "import re\n",
    "from shutil import copy\n",
    "\n",
    "import shapely.geometry as geo\n",
    "import viewscad\n",
    "import vsketch\n",
    "from solid import *\n",
    "from solid.utils import *  # Not required, but the utils module is useful\n"
   ]
  },
  {
   "cell_type": "code",
   "execution_count": 35,
   "metadata": {},
   "outputs": [],
   "source": [
    "def hash_string(string: str):\n",
    "    return md5(string.encode()).hexdigest()[:7]\n"
   ]
  },
  {
   "cell_type": "code",
   "execution_count": null,
   "metadata": {},
   "outputs": [],
   "source": []
  },
  {
   "cell_type": "code",
   "execution_count": 36,
   "metadata": {},
   "outputs": [],
   "source": [
    "r = viewscad.Renderer()\n"
   ]
  },
  {
   "cell_type": "code",
   "execution_count": 37,
   "metadata": {},
   "outputs": [],
   "source": [
    "def vsketch_to_scad_2d(sketch: vsketch.Vsketch, output_folder: Path = Path(\"output/\")):\n",
    "    with NamedTemporaryFile(suffix=\".svg\") as tempsvg:\n",
    "        tempsvg = NamedTemporaryFile(suffix=\".svg\")\n",
    "        sketch.save(tempsvg.name)\n",
    "        svg_text = Path(tempsvg.name).read_text()\n",
    "        # vsketch dynamically generates a timestamp\n",
    "        # rather than parse the svg as XML, let's just regex it out\n",
    "        svg_text = re.sub(\n",
    "            r\"^.*\\<dc\\:date\\>.*\\<\\/dc\\:date\\>$\", \"\", svg_text, flags=re.MULTILINE\n",
    "        )\n",
    "        svg_hash = hash_string(svg_text)\n",
    "\n",
    "    svg_path = output_folder / (svg_hash + \".svg\")\n",
    "    sketch.save(svg_path)\n",
    "\n",
    "    SCALE = 1 / 0.2645833333\n",
    "    SCAD_TEMPLATE = f\"\"\"\n",
    "    module svg_{svg_hash}()\n",
    "    {{\n",
    "        scale([{SCALE}, {SCALE}, 0])\n",
    "        {{\n",
    "            import(\"{svg_path.resolve()}\", dpi=96);\n",
    "        }};\n",
    "    }}\n",
    "    \"\"\".strip()\n",
    "\n",
    "    scadfile_temp = output_folder / (svg_hash + \".scad\")\n",
    "    scadfile_temp.write_text(SCAD_TEMPLATE)\n",
    "    scadfile = import_scad(scadfile_temp)\n",
    "    shape_2d = getattr(scadfile, f\"svg_{svg_hash}\")()\n",
    "    return shape_2d\n",
    "\n",
    "\n",
    "def svg_to_scad_2d(svg: Union[str, Path], output_folder: Path = Path(\"output/\")):\n",
    "    if isinstance(svg, str):\n",
    "        svg = Path(svg)\n",
    "    with NamedTemporaryFile(suffix=\".svg\") as tempsvg:\n",
    "        tempsvg = NamedTemporaryFile(suffix=\".svg\")\n",
    "        svg_text = svg.read_text()\n",
    "        # vsketch dynamically generates a timestamp\n",
    "        # rather than parse the svg as XML, let's just regex it out\n",
    "        svg_text = re.sub(\n",
    "            r\"^.*\\<dc\\:date\\>.*\\<\\/dc\\:date\\>$\", \"\", svg_text, flags=re.MULTILINE\n",
    "        )\n",
    "        svg_hash = hash_string(svg_text)\n",
    "\n",
    "    svg_path = output_folder / (svg_hash + \".svg\")\n",
    "    copy(svg, svg_path)\n",
    "\n",
    "    SCALE = 1\n",
    "    SCAD_TEMPLATE = f\"\"\"\n",
    "    module svg_{svg_hash}()\n",
    "    {{\n",
    "        scale([{SCALE}, {SCALE}, 0])\n",
    "        {{\n",
    "            import(\"{svg_path.resolve()}\", center=true);\n",
    "        }};\n",
    "    }}\n",
    "    \"\"\".strip()\n",
    "\n",
    "    scadfile_temp = output_folder / (svg_hash + \".scad\")\n",
    "    scadfile_temp.write_text(SCAD_TEMPLATE)\n",
    "    scadfile = import_scad(scadfile_temp)\n",
    "    shape_2d = getattr(scadfile, f\"svg_{svg_hash}\")()\n",
    "    return shape_2d\n"
   ]
  },
  {
   "cell_type": "code",
   "execution_count": null,
   "metadata": {},
   "outputs": [],
   "source": []
  },
  {
   "cell_type": "code",
   "execution_count": 48,
   "metadata": {},
   "outputs": [
    {
     "name": "stdout",
     "output_type": "stream",
     "text": [
      "0 0\n",
      "0 1\n",
      "0 2\n",
      "1 3\n",
      "1 4\n",
      "1 5\n",
      "2 6\n",
      "2 7\n",
      "2 8\n",
      "3 9\n",
      "3 10\n",
      "3 11\n",
      "4 0\n",
      "4 1\n",
      "4 2\n",
      "5 3\n",
      "5 4\n",
      "5 5\n",
      "6 6\n",
      "6 7\n",
      "6 8\n",
      "7 9\n",
      "7 10\n",
      "7 11\n",
      "8 0\n",
      "8 1\n",
      "8 2\n",
      "9 3\n",
      "9 4\n",
      "9 5\n",
      "10 6\n",
      "10 7\n",
      "10 8\n",
      "11 9\n",
      "11 10\n",
      "11 11\n"
     ]
    },
    {
     "ename": "AttributeError",
     "evalue": "'list' object has no attribute 'children'",
     "output_type": "error",
     "traceback": [
      "\u001b[0;31m---------------------------------------------------------------------------\u001b[0m",
      "\u001b[0;31mAttributeError\u001b[0m                            Traceback (most recent call last)",
      "\u001b[1;32m/Users/peter/projects/py-open-scad/explosionopoly/svgtest.ipynb Cell 7\u001b[0m in \u001b[0;36m<cell line: 31>\u001b[0;34m()\u001b[0m\n\u001b[1;32m     <a href='vscode-notebook-cell:/Users/peter/projects/py-open-scad/explosionopoly/svgtest.ipynb#X10sZmlsZQ%3D%3D?line=28'>29</a>\u001b[0m final \u001b[39m=\u001b[39m union()(\u001b[39m*\u001b[39mall_shapes)\n\u001b[1;32m     <a href='vscode-notebook-cell:/Users/peter/projects/py-open-scad/explosionopoly/svgtest.ipynb#X10sZmlsZQ%3D%3D?line=29'>30</a>\u001b[0m \u001b[39m# r.render(result)\u001b[39;00m\n\u001b[0;32m---> <a href='vscode-notebook-cell:/Users/peter/projects/py-open-scad/explosionopoly/svgtest.ipynb#X10sZmlsZQ%3D%3D?line=30'>31</a>\u001b[0m scad_render_to_file(all_shapes, \u001b[39mf\u001b[39;49m\u001b[39m\"\u001b[39;49m\u001b[39mall_issues.scad\u001b[39;49m\u001b[39m\"\u001b[39;49m)\n",
      "File \u001b[0;32m~/miniconda3/envs/py-open-scad/lib/python3.8/site-packages/solid/solidpython.py:517\u001b[0m, in \u001b[0;36mscad_render_to_file\u001b[0;34m(scad_object, filepath, out_dir, file_header, include_orig_code)\u001b[0m\n\u001b[1;32m    514\u001b[0m     date \u001b[39m=\u001b[39m datetime\u001b[39m.\u001b[39mdatetime\u001b[39m.\u001b[39mnow()\u001b[39m.\u001b[39mstrftime(\u001b[39m\"\u001b[39m\u001b[39m%\u001b[39m\u001b[39mY-\u001b[39m\u001b[39m%\u001b[39m\u001b[39mm-\u001b[39m\u001b[39m%d\u001b[39;00m\u001b[39m \u001b[39m\u001b[39m%\u001b[39m\u001b[39mH:\u001b[39m\u001b[39m%\u001b[39m\u001b[39mM:\u001b[39m\u001b[39m%\u001b[39m\u001b[39mS\u001b[39m\u001b[39m\"\u001b[39m)\n\u001b[1;32m    515\u001b[0m     header \u001b[39m=\u001b[39m \u001b[39mf\u001b[39m\u001b[39m\"\u001b[39m\u001b[39m// Generated by SolidPython \u001b[39m\u001b[39m{\u001b[39;00mversion\u001b[39m}\u001b[39;00m\u001b[39m on \u001b[39m\u001b[39m{\u001b[39;00mdate\u001b[39m}\u001b[39;00m\u001b[39m\\n\u001b[39;00m\u001b[39m\"\u001b[39m \u001b[39m+\u001b[39m file_header\n\u001b[0;32m--> 517\u001b[0m rendered_string \u001b[39m=\u001b[39m scad_render(scad_object, header)\n\u001b[1;32m    518\u001b[0m \u001b[39mreturn\u001b[39;00m _write_code_to_file(rendered_string, filepath, out_dir, include_orig_code)\n",
      "File \u001b[0;32m~/miniconda3/envs/py-open-scad/lib/python3.8/site-packages/solid/solidpython.py:421\u001b[0m, in \u001b[0;36mscad_render\u001b[0;34m(scad_object, file_header)\u001b[0m\n\u001b[1;32m    417\u001b[0m root \u001b[39m=\u001b[39m scad_object\n\u001b[1;32m    419\u001b[0m \u001b[39m# Scan the tree for all instances of\u001b[39;00m\n\u001b[1;32m    420\u001b[0m \u001b[39m# IncludedOpenSCADObject, storing their strings\u001b[39;00m\n\u001b[0;32m--> 421\u001b[0m include_strings \u001b[39m=\u001b[39m _find_include_strings(root)\n\u001b[1;32m    423\u001b[0m \u001b[39m# and render the string\u001b[39;00m\n\u001b[1;32m    424\u001b[0m includes \u001b[39m=\u001b[39m \u001b[39m'\u001b[39m\u001b[39m'\u001b[39m\u001b[39m.\u001b[39mjoin(include_strings) \u001b[39m+\u001b[39m \u001b[39m\"\u001b[39m\u001b[39m\\n\u001b[39;00m\u001b[39m\"\u001b[39m\n",
      "File \u001b[0;32m~/miniconda3/envs/py-open-scad/lib/python3.8/site-packages/solid/solidpython.py:406\u001b[0m, in \u001b[0;36m_find_include_strings\u001b[0;34m(obj)\u001b[0m\n\u001b[1;32m    404\u001b[0m \u001b[39mif\u001b[39;00m \u001b[39misinstance\u001b[39m(obj, IncludedOpenSCADObject):\n\u001b[1;32m    405\u001b[0m     include_strings\u001b[39m.\u001b[39madd(obj\u001b[39m.\u001b[39minclude_string)\n\u001b[0;32m--> 406\u001b[0m \u001b[39mfor\u001b[39;00m child \u001b[39min\u001b[39;00m obj\u001b[39m.\u001b[39;49mchildren:\n\u001b[1;32m    407\u001b[0m     include_strings\u001b[39m.\u001b[39mupdate(_find_include_strings(child))\n\u001b[1;32m    408\u001b[0m \u001b[39m# We also accept IncludedOpenSCADObject instances as parameters to functions, \u001b[39;00m\n\u001b[1;32m    409\u001b[0m \u001b[39m# so search in obj.params as well\u001b[39;00m\n",
      "\u001b[0;31mAttributeError\u001b[0m: 'list' object has no attribute 'children'"
     ]
    }
   ],
   "source": [
    "import numpy as np\n",
    "\n",
    "x = 18\n",
    "y = 8\n",
    "z = 6\n",
    "\n",
    "scale_val = 1.5\n",
    "\n",
    "issues = [3756, 1105, 132, 1971, 1508, 11005, 125, 485, 1969, 9606, 2011, 3339, 6990, 285, 3082, 15, 3618, 641, 507, 253, 5389, 4511, 3356, 2852, 9425, 4119, 4259, 2668, 7264, 4695, 4083, 579, 429, 7687, 4758, 232]\n",
    "\n",
    "all_shapes = []\n",
    "for i, issue in enumerate(issues):\n",
    "    x_trans = (i % 3) * ((x + 4)* scale_val) \n",
    "    y_trans = (i // 3) * ((y + 4)* scale_val) \n",
    "    print((i // 3), (i % 12))\n",
    "    base = linear_extrude(z)(offset(1, segments=100)(square([x - 1, y - 1], center=True)))\n",
    "\n",
    "    inset_2d = svg_to_scad_2d(\n",
    "        \"/Users/peter/projects/py-open-scad/explosionopoly/closed-issue-2.svg\"\n",
    "    )\n",
    "    inset_extruded = scale([0.8, 0.8, 1])(translate([-8,0,z/2])(linear_extrude(z/2)(inset_2d)))\n",
    "\n",
    "    number_text = translate([2.5,0,z/2])(linear_extrude(z/2)(text(text=f\"{issue}\", font=\"Inter:style=Bold\", size=3, halign=\"center\", valign=\"center\", segments=100)))\n",
    "\n",
    "    result = scale([scale_val, scale_val, 1])(base - (inset_extruded + number_text))\n",
    "    result_translated = translate([x_trans, y_trans, 0])(result)\n",
    "    all_shapes.append(result_translated)\n",
    "\n",
    "final = union()(*all_shapes)\n",
    "# r.render(result)\n",
    "scad_render_to_file(all_shapes, f\"all_issues.scad\")\n"
   ]
  },
  {
   "cell_type": "code",
   "execution_count": 56,
   "metadata": {},
   "outputs": [
    {
     "name": "stdout",
     "output_type": "stream",
     "text": [
      "0 0\n",
      "0 1\n",
      "0 2\n",
      "1 3\n",
      "1 4\n",
      "1 5\n",
      "2 6\n",
      "2 7\n",
      "2 8\n",
      "3 9\n",
      "3 10\n",
      "3 11\n"
     ]
    },
    {
     "data": {
      "text/plain": [
       "'/Users/peter/projects/py-open-scad/explosionopoly/all_prs.scad'"
      ]
     },
     "execution_count": 56,
     "metadata": {},
     "output_type": "execute_result"
    }
   ],
   "source": [
    "import numpy as np\n",
    "\n",
    "x = 18\n",
    "y = 8\n",
    "z = 6\n",
    "\n",
    "scale_val = 2\n",
    "\n",
    "issues = [6862, 3413, 5907, 1501, 1502, 5477, 3153, 3079, 4828, 3285, 2983, 1385]\n",
    "all_shapes = []\n",
    "for i, issue in enumerate(issues):\n",
    "    x_trans = (i % 4) * ((x + 4)* scale_val) \n",
    "    y_trans = (i // 4) * ((y + 4)* scale_val) \n",
    "    print((i // 3), (i % 12))\n",
    "    base = linear_extrude(z)(offset(1, segments=50)(square([x - 1, y - 1], center=True)))\n",
    "\n",
    "    inset_2d = svg_to_scad_2d(\n",
    "        \"/Users/peter/projects/py-open-scad/explosionopoly/merged-pr-2.svg\"\n",
    "    )\n",
    "    inset_extruded = scale([0.8, 0.8, 1])(translate([-7,0,z/2])(linear_extrude(z/2)(inset_2d)))\n",
    "\n",
    "    number_text = translate([3,0,z/2])(linear_extrude(z/2)(text(text=f\"{issue}\", font=\"Inter:style=Bold\", size=3, halign=\"center\", valign=\"center\", segments=50)))\n",
    "\n",
    "    result = scale([scale_val, scale_val, scale_val])(base - (inset_extruded + number_text))\n",
    "    result_translated = translate([x_trans, y_trans, 0])(result)\n",
    "    all_shapes.append(result_translated)\n",
    "\n",
    "final = union()(*all_shapes)\n",
    "# r.render(result)\n",
    "scad_render_to_file(final, f\"all_prs.scad\")\n"
   ]
  },
  {
   "cell_type": "code",
   "execution_count": null,
   "metadata": {},
   "outputs": [],
   "source": []
  }
 ],
 "metadata": {
  "kernelspec": {
   "display_name": "Python 3.8.13 ('py-open-scad')",
   "language": "python",
   "name": "python3"
  },
  "language_info": {
   "codemirror_mode": {
    "name": "ipython",
    "version": 3
   },
   "file_extension": ".py",
   "mimetype": "text/x-python",
   "name": "python",
   "nbconvert_exporter": "python",
   "pygments_lexer": "ipython3",
   "version": "3.8.13"
  },
  "orig_nbformat": 4,
  "vscode": {
   "interpreter": {
    "hash": "ee3447709a83cb0ad9f1aaf45cfc11dd0d0647705bb4725ccc6e0b8685aff5f7"
   }
  }
 },
 "nbformat": 4,
 "nbformat_minor": 2
}
