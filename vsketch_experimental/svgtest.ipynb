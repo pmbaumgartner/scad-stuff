{
 "cells": [
  {
   "cell_type": "code",
   "execution_count": 101,
   "metadata": {},
   "outputs": [],
   "source": [
    "from pathlib import Path\n",
    "from uuid import uuid4\n",
    "from hashlib import md5\n",
    "from tempfile import NamedTemporaryFile\n",
    "import re\n",
    "from shutil import copy\n",
    "\n",
    "import shapely.geometry as geo\n",
    "import viewscad\n",
    "import vsketch\n",
    "from solid import *\n",
    "from solid.utils import *  # Not required, but the utils module is useful\n"
   ]
  },
  {
   "cell_type": "code",
   "execution_count": 45,
   "metadata": {},
   "outputs": [],
   "source": [
    "def hash_string(string: str):\n",
    "    return md5(string.encode()).hexdigest()[:7]"
   ]
  },
  {
   "cell_type": "code",
   "execution_count": null,
   "metadata": {},
   "outputs": [],
   "source": []
  },
  {
   "cell_type": "code",
   "execution_count": 46,
   "metadata": {},
   "outputs": [],
   "source": [
    "r = viewscad.Renderer()"
   ]
  },
  {
   "cell_type": "code",
   "execution_count": 104,
   "metadata": {},
   "outputs": [],
   "source": [
    "def vsketch_to_scad_2d(sketch: vsketch.Vsketch, output_folder: Path = Path(\"output/\")):\n",
    "    with NamedTemporaryFile(suffix=\".svg\") as tempsvg:\n",
    "        tempsvg = NamedTemporaryFile(suffix=\".svg\")\n",
    "        sketch.save(tempsvg.name)\n",
    "        svg_text = Path(tempsvg.name).read_text()\n",
    "        # vsketch dynamically generates a timestamp\n",
    "        # rather than parse the svg as XML, let's just regex it out\n",
    "        svg_text = re.sub(r\"^.*\\<dc\\:date\\>.*\\<\\/dc\\:date\\>$\", \"\", svg_text, flags=re.MULTILINE)\n",
    "        svg_hash = hash_string(svg_text)\n",
    "    \n",
    "    svg_path = output_folder / (svg_hash + \".svg\")\n",
    "    sketch.save(svg_path)\n",
    "\n",
    "    SCALE = 1 / 0.2645833333\n",
    "    SCAD_TEMPLATE = f\"\"\"\n",
    "    module svg_{svg_hash}()\n",
    "    {{\n",
    "        scale([{SCALE}, {SCALE}, 0])\n",
    "        {{\n",
    "            import(\"{svg_path.resolve()}\");\n",
    "        }};\n",
    "    }}\n",
    "    \"\"\".strip()\n",
    "\n",
    "    scadfile_temp = output_folder / (svg_hash + \".scad\")\n",
    "    scadfile_temp.write_text(SCAD_TEMPLATE)\n",
    "    scadfile = import_scad(scadfile_temp)\n",
    "    shape_2d = getattr(scadfile, f\"svg_{svg_hash}\")()\n",
    "    return shape_2d\n",
    "\n",
    "def svg_to_scad_2d(svg: Union[str, Path], output_folder: Path = Path(\"output/\")):\n",
    "    if isinstance(svg, str):\n",
    "        svg = Path(svg)\n",
    "    with NamedTemporaryFile(suffix=\".svg\") as tempsvg:\n",
    "        tempsvg = NamedTemporaryFile(suffix=\".svg\")\n",
    "        svg_text = svg.read_text()\n",
    "        # vsketch dynamically generates a timestamp\n",
    "        # rather than parse the svg as XML, let's just regex it out\n",
    "        svg_text = re.sub(r\"^.*\\<dc\\:date\\>.*\\<\\/dc\\:date\\>$\", \"\", svg_text, flags=re.MULTILINE)\n",
    "        svg_hash = hash_string(svg_text)\n",
    "    \n",
    "    svg_path = output_folder / (svg_hash + \".svg\")\n",
    "    copy(svg, svg_path)\n",
    "\n",
    "    SCALE = 1 / 0.2645833333\n",
    "    SCAD_TEMPLATE = f\"\"\"\n",
    "    module svg_{svg_hash}()\n",
    "    {{\n",
    "        scale([{SCALE}, {SCALE}, 0])\n",
    "        {{\n",
    "            import(\"{svg_path.resolve()}\");\n",
    "        }};\n",
    "    }}\n",
    "    \"\"\".strip()\n",
    "\n",
    "    scadfile_temp = output_folder / (svg_hash + \".scad\")\n",
    "    scadfile_temp.write_text(SCAD_TEMPLATE)\n",
    "    scadfile = import_scad(scadfile_temp)\n",
    "    shape_2d = getattr(scadfile, f\"svg_{svg_hash}\")()\n",
    "    return shape_2d\n"
   ]
  },
  {
   "cell_type": "code",
   "execution_count": 105,
   "metadata": {},
   "outputs": [
    {
     "ename": "FileNotFoundError",
     "evalue": "[Errno 2] No such file or directory: 'openscad'",
     "output_type": "error",
     "traceback": [
      "\u001b[0;31m---------------------------------------------------------------------------\u001b[0m",
      "\u001b[0;31mFileNotFoundError\u001b[0m                         Traceback (most recent call last)",
      "File \u001b[0;32m~/miniconda3/envs/py-open-scad/lib/python3.8/site-packages/IPython/core/formatters.py:343\u001b[0m, in \u001b[0;36mBaseFormatter.__call__\u001b[0;34m(self, obj)\u001b[0m\n\u001b[1;32m    341\u001b[0m     method \u001b[39m=\u001b[39m get_real_method(obj, \u001b[39mself\u001b[39m\u001b[39m.\u001b[39mprint_method)\n\u001b[1;32m    342\u001b[0m     \u001b[39mif\u001b[39;00m method \u001b[39mis\u001b[39;00m \u001b[39mnot\u001b[39;00m \u001b[39mNone\u001b[39;00m:\n\u001b[0;32m--> 343\u001b[0m         \u001b[39mreturn\u001b[39;00m method()\n\u001b[1;32m    344\u001b[0m     \u001b[39mreturn\u001b[39;00m \u001b[39mNone\u001b[39;00m\n\u001b[1;32m    345\u001b[0m \u001b[39melse\u001b[39;00m:\n",
      "File \u001b[0;32m~/miniconda3/envs/py-open-scad/lib/python3.8/site-packages/solid/solidpython.py:348\u001b[0m, in \u001b[0;36mOpenSCADObject._repr_png_\u001b[0;34m(self)\u001b[0m\n\u001b[1;32m    346\u001b[0m tmp\u001b[39m.\u001b[39mclose()\n\u001b[1;32m    347\u001b[0m tmp_png\u001b[39m.\u001b[39mclose()\n\u001b[0;32m--> 348\u001b[0m subprocess\u001b[39m.\u001b[39;49mPopen([\n\u001b[1;32m    349\u001b[0m     \u001b[39m\"\u001b[39;49m\u001b[39mopenscad\u001b[39;49m\u001b[39m\"\u001b[39;49m,\n\u001b[1;32m    350\u001b[0m     \u001b[39m\"\u001b[39;49m\u001b[39m--preview\u001b[39;49m\u001b[39m\"\u001b[39;49m,\n\u001b[1;32m    351\u001b[0m     \u001b[39m\"\u001b[39;49m\u001b[39m-o\u001b[39;49m\u001b[39m\"\u001b[39;49m, tmp_png\u001b[39m.\u001b[39;49mname,\n\u001b[1;32m    352\u001b[0m     tmp\u001b[39m.\u001b[39;49mname\n\u001b[1;32m    353\u001b[0m ])\u001b[39m.\u001b[39mcommunicate()\n\u001b[1;32m    355\u001b[0m \u001b[39mwith\u001b[39;00m \u001b[39mopen\u001b[39m(tmp_png\u001b[39m.\u001b[39mname, \u001b[39m\"\u001b[39m\u001b[39mrb\u001b[39m\u001b[39m\"\u001b[39m) \u001b[39mas\u001b[39;00m png:\n\u001b[1;32m    356\u001b[0m     png_data \u001b[39m=\u001b[39m png\u001b[39m.\u001b[39mread()\n",
      "File \u001b[0;32m~/miniconda3/envs/py-open-scad/lib/python3.8/subprocess.py:858\u001b[0m, in \u001b[0;36mPopen.__init__\u001b[0;34m(self, args, bufsize, executable, stdin, stdout, stderr, preexec_fn, close_fds, shell, cwd, env, universal_newlines, startupinfo, creationflags, restore_signals, start_new_session, pass_fds, encoding, errors, text)\u001b[0m\n\u001b[1;32m    854\u001b[0m         \u001b[39mif\u001b[39;00m \u001b[39mself\u001b[39m\u001b[39m.\u001b[39mtext_mode:\n\u001b[1;32m    855\u001b[0m             \u001b[39mself\u001b[39m\u001b[39m.\u001b[39mstderr \u001b[39m=\u001b[39m io\u001b[39m.\u001b[39mTextIOWrapper(\u001b[39mself\u001b[39m\u001b[39m.\u001b[39mstderr,\n\u001b[1;32m    856\u001b[0m                     encoding\u001b[39m=\u001b[39mencoding, errors\u001b[39m=\u001b[39merrors)\n\u001b[0;32m--> 858\u001b[0m     \u001b[39mself\u001b[39;49m\u001b[39m.\u001b[39;49m_execute_child(args, executable, preexec_fn, close_fds,\n\u001b[1;32m    859\u001b[0m                         pass_fds, cwd, env,\n\u001b[1;32m    860\u001b[0m                         startupinfo, creationflags, shell,\n\u001b[1;32m    861\u001b[0m                         p2cread, p2cwrite,\n\u001b[1;32m    862\u001b[0m                         c2pread, c2pwrite,\n\u001b[1;32m    863\u001b[0m                         errread, errwrite,\n\u001b[1;32m    864\u001b[0m                         restore_signals, start_new_session)\n\u001b[1;32m    865\u001b[0m \u001b[39mexcept\u001b[39;00m:\n\u001b[1;32m    866\u001b[0m     \u001b[39m# Cleanup if the child failed starting.\u001b[39;00m\n\u001b[1;32m    867\u001b[0m     \u001b[39mfor\u001b[39;00m f \u001b[39min\u001b[39;00m \u001b[39mfilter\u001b[39m(\u001b[39mNone\u001b[39;00m, (\u001b[39mself\u001b[39m\u001b[39m.\u001b[39mstdin, \u001b[39mself\u001b[39m\u001b[39m.\u001b[39mstdout, \u001b[39mself\u001b[39m\u001b[39m.\u001b[39mstderr)):\n",
      "File \u001b[0;32m~/miniconda3/envs/py-open-scad/lib/python3.8/subprocess.py:1704\u001b[0m, in \u001b[0;36mPopen._execute_child\u001b[0;34m(self, args, executable, preexec_fn, close_fds, pass_fds, cwd, env, startupinfo, creationflags, shell, p2cread, p2cwrite, c2pread, c2pwrite, errread, errwrite, restore_signals, start_new_session)\u001b[0m\n\u001b[1;32m   1702\u001b[0m     \u001b[39mif\u001b[39;00m errno_num \u001b[39m!=\u001b[39m \u001b[39m0\u001b[39m:\n\u001b[1;32m   1703\u001b[0m         err_msg \u001b[39m=\u001b[39m os\u001b[39m.\u001b[39mstrerror(errno_num)\n\u001b[0;32m-> 1704\u001b[0m     \u001b[39mraise\u001b[39;00m child_exception_type(errno_num, err_msg, err_filename)\n\u001b[1;32m   1705\u001b[0m \u001b[39mraise\u001b[39;00m child_exception_type(err_msg)\n",
      "\u001b[0;31mFileNotFoundError\u001b[0m: [Errno 2] No such file or directory: 'openscad'"
     ]
    },
    {
     "data": {
      "text/plain": [
       "<svg_31a5ee8 at 0x280142940>"
      ]
     },
     "execution_count": 105,
     "metadata": {},
     "output_type": "execute_result"
    }
   ],
   "source": []
  },
  {
   "cell_type": "code",
   "execution_count": 75,
   "metadata": {},
   "outputs": [
    {
     "name": "stderr",
     "output_type": "stream",
     "text": [
      "Geometries in cache: 3\n",
      "Geometry cache size in bytes: 21144\n",
      "CGAL Polyhedrons in cache: 0\n",
      "CGAL cache size in bytes: 0\n",
      "Total rendering time: 0:00:00.013\n",
      "   Top level object is a 3D object:\n",
      "   Facets:        260\n"
     ]
    },
    {
     "data": {
      "application/vnd.jupyter.widget-view+json": {
       "model_id": "f8171821fe5f489b8867de557ac6d2f7",
       "version_major": 2,
       "version_minor": 0
      },
      "text/plain": [
       "VBox(children=(HTML(value=''), Renderer(background='#cccc88', background_opacity=0.0, camera=PerspectiveCamera…"
      ]
     },
     "metadata": {},
     "output_type": "display_data"
    },
    {
     "data": {
      "text/plain": [
       "'/Users/peter/projects/py-open-scad/vsketch_experimental/filepath.scad'"
      ]
     },
     "execution_count": 75,
     "metadata": {},
     "output_type": "execute_result"
    }
   ],
   "source": [
    "vsk = vsketch.Vsketch()\n",
    "vsk.size(\"220x220\", landscape=False)\n",
    "\n",
    "ls = geo.LineString(\n",
    "    [\n",
    "        (\n",
    "            1,\n",
    "            vsk.height / 2,\n",
    "        ),\n",
    "        (vsk.width - 1, vsk.height / 2),\n",
    "    ]\n",
    ")\n",
    "vsk.geometry(ls.buffer(30))\n",
    "\n",
    "shape_2d = vsketch_to_scad_2d(vsk)\n",
    "o = linear_extrude(5)(shape_2d)\n",
    "r.render(o)\n",
    "scad_render_to_file(o, \"filepath.scad\")\n"
   ]
  },
  {
   "cell_type": "code",
   "execution_count": 141,
   "metadata": {},
   "outputs": [
    {
     "data": {
      "text/plain": [
       "'/Users/peter/projects/py-open-scad/vsketch_experimental/coaster.scad'"
      ]
     },
     "execution_count": 141,
     "metadata": {},
     "output_type": "execute_result"
    }
   ],
   "source": [
    "import numpy as np\n",
    "\n",
    "diameter = 100\n",
    "radius = diameter / 2\n",
    "height = 5  # sphere diameter\n",
    "sphere_segments = 25\n",
    "lip_diameter = diameter - 5\n",
    "lip_height = 3\n",
    "design_extrusion_height = height + lip_height\n",
    "\n",
    "\n",
    "def unit_xy(angle):\n",
    "    return np.cos(angle), np.sin(angle)\n",
    "\n",
    "\n",
    "n_spheres = 100\n",
    "spheres = []\n",
    "for angle in np.linspace(0, 2 * np.pi, n_spheres, endpoint=False):\n",
    "    x, y = unit_xy(angle)\n",
    "    x_c = x * radius\n",
    "    y_c = y * radius\n",
    "    s = translate([x_c, y_c, 0])(sphere(d=height, segments=sphere_segments))\n",
    "    spheres.append(s)\n",
    "\n",
    "sphere_ring = translate([0, 0, height / 2])(hull()(*spheres))\n",
    "bottom_ring = translate([0, 0, height / 4])(\n",
    "    cylinder(d=diameter + height, h=height / 2, center=True, segments=n_spheres)\n",
    ")\n",
    "\n",
    "lip = translate([0, 0, height])(\n",
    "    rotate_extrude(angle=360, segments=n_spheres)(\n",
    "        translate([(lip_diameter / 2) - (lip_height / 2), 0])(\n",
    "            circle(d=lip_height, segments=sphere_segments)\n",
    "        )\n",
    "    )\n",
    ")\n",
    "\n",
    "inset = translate([0, 0, height / 2])(\n",
    "    linear_extrude(height / 2)(\n",
    "        translate([-110, -110])(\n",
    "            svg_to_scad_2d(\n",
    "                \"/Users/peter/projects/sketches/3dprinter/output/flow-field-coaster-2022-08-13 13-45-11.svg\"\n",
    "            )\n",
    "        )\n",
    "    )\n",
    ")\n",
    "\n",
    "result = bottom_ring + sphere_ring + lip - inset\n",
    "# r.render(result)\n",
    "scad_render_to_file(result, \"coaster.scad\")\n"
   ]
  },
  {
   "cell_type": "code",
   "execution_count": null,
   "metadata": {},
   "outputs": [],
   "source": []
  }
 ],
 "metadata": {
  "kernelspec": {
   "display_name": "Python 3.8.13 ('py-open-scad')",
   "language": "python",
   "name": "python3"
  },
  "language_info": {
   "codemirror_mode": {
    "name": "ipython",
    "version": 3
   },
   "file_extension": ".py",
   "mimetype": "text/x-python",
   "name": "python",
   "nbconvert_exporter": "python",
   "pygments_lexer": "ipython3",
   "version": "3.8.13"
  },
  "orig_nbformat": 4,
  "vscode": {
   "interpreter": {
    "hash": "ee3447709a83cb0ad9f1aaf45cfc11dd0d0647705bb4725ccc6e0b8685aff5f7"
   }
  }
 },
 "nbformat": 4,
 "nbformat_minor": 2
}
