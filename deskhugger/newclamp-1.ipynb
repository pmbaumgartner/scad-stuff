{
 "cells": [
  {
   "cell_type": "code",
   "execution_count": 5,
   "metadata": {},
   "outputs": [],
   "source": [
    "from solid import *\n",
    "from solid.utils import *  # Not required, but the utils module is useful\n",
    "import viewscad"
   ]
  },
  {
   "cell_type": "code",
   "execution_count": 6,
   "metadata": {},
   "outputs": [],
   "source": [
    "r = viewscad.Renderer()"
   ]
  },
  {
   "cell_type": "code",
   "execution_count": 130,
   "metadata": {},
   "outputs": [],
   "source": [
    "DESK_THICKNESS = 26\n",
    "CLAMP_ANGLE = -3\n",
    "HOLDER_DIAMETER = 40\n",
    "CLAMP_OFFSET = 0\n",
    "CABLE_GAP = 5\n",
    "\n",
    "CLAMP_WIDTH = 40 # Z-AXIS\n",
    "NOZZLE = 0.4\n",
    "N_LINES = 6\n",
    "\n",
    "THICKNESS = N_LINES * NOZZLE\n",
    "DESK_WIDTH = DESK_THICKNESS - CLAMP_OFFSET"
   ]
  },
  {
   "cell_type": "code",
   "execution_count": 131,
   "metadata": {},
   "outputs": [],
   "source": [
    "top = rotate([0,0,CLAMP_ANGLE])(square(size=[THICKNESS, HOLDER_DIAMETER]))\n",
    "left = square(size=[DESK_WIDTH + (HOLDER_DIAMETER/2), THICKNESS])\n",
    "\n",
    "corner_cube = square(size=[THICKNESS*2, THICKNESS*2], center=True)\n",
    "top_corner = intersection()(top, left)\n",
    "remove = corner_cube - top_corner\n",
    "top = top - remove\n",
    "left = left - remove\n",
    "\n",
    "\n",
    "\n",
    "circle_center = (DESK_WIDTH + (HOLDER_DIAMETER/2), HOLDER_DIAMETER/2)\n",
    "hook_outer = translate(circle_center)(circle(d=HOLDER_DIAMETER, segments=100))\n",
    "hook_inner = translate(circle_center)(circle(d=HOLDER_DIAMETER - (THICKNESS*2), segments=100))\n",
    "subtract_center = circle_center[0] - (HOLDER_DIAMETER/4), HOLDER_DIAMETER/2\n",
    "upper_subtract = translate(subtract_center)(square(size=(HOLDER_DIAMETER/2, HOLDER_DIAMETER), center=True))\n",
    "full_hook = difference()(hook_outer, hook_inner, upper_subtract)\n",
    "\n",
    "\n",
    "right = translate((DESK_WIDTH, HOLDER_DIAMETER-THICKNESS))(square(size=[(HOLDER_DIAMETER/2), THICKNESS]))\n",
    "top_hook = translate((DESK_WIDTH, CABLE_GAP + THICKNESS))(square(size=[THICKNESS, HOLDER_DIAMETER - CABLE_GAP - THICKNESS]))\n",
    "\n",
    "complete = linear_extrude(CLAMP_WIDTH)(union()(top, left, full_hook, right, top_hook))"
   ]
  },
  {
   "cell_type": "code",
   "execution_count": 132,
   "metadata": {},
   "outputs": [
    {
     "name": "stderr",
     "output_type": "stream",
     "text": [
      "Geometries in cache: 21\n",
      "Geometry cache size in bytes: 44792\n",
      "CGAL Polyhedrons in cache: 0\n",
      "CGAL cache size in bytes: 0\n",
      "Total rendering time: 0:00:00.001\n",
      "   Top level object is a 3D object:\n",
      "   Facets:        448\n"
     ]
    },
    {
     "data": {
      "application/vnd.jupyter.widget-view+json": {
       "model_id": "03afd932a42643ddb010cb483ec42909",
       "version_major": 2,
       "version_minor": 0
      },
      "text/plain": [
       "VBox(children=(HTML(value=''), Renderer(background='#cccc88', background_opacity=0.0, camera=PerspectiveCamera…"
      ]
     },
     "metadata": {},
     "output_type": "display_data"
    }
   ],
   "source": [
    "r.render(complete)"
   ]
  },
  {
   "cell_type": "code",
   "execution_count": 125,
   "metadata": {},
   "outputs": [
    {
     "name": "stdout",
     "output_type": "stream",
     "text": [
      "\n",
      "\n",
      "linear_extrude(height = 40) {\n",
      "\tunion() {\n",
      "\t\tdifference() {\n",
      "\t\t\trotate(a = [0, 0, -5]) {\n",
      "\t\t\t\tsquare(size = [2.4000000000, 40]);\n",
      "\t\t\t}\n",
      "\t\t\tdifference() {\n",
      "\t\t\t\tsquare(center = true, size = [4.8000000000, 4.8000000000]);\n",
      "\t\t\t\tintersection() {\n",
      "\t\t\t\t\trotate(a = [0, 0, -5]) {\n",
      "\t\t\t\t\t\tsquare(size = [2.4000000000, 40]);\n",
      "\t\t\t\t\t}\n",
      "\t\t\t\t\tsquare(size = [46.0000000000, 2.4000000000]);\n",
      "\t\t\t\t}\n",
      "\t\t\t}\n",
      "\t\t}\n",
      "\t\tdifference() {\n",
      "\t\t\tsquare(size = [46.0000000000, 2.4000000000]);\n",
      "\t\t\tdifference() {\n",
      "\t\t\t\tsquare(center = true, size = [4.8000000000, 4.8000000000]);\n",
      "\t\t\t\tintersection() {\n",
      "\t\t\t\t\trotate(a = [0, 0, -5]) {\n",
      "\t\t\t\t\t\tsquare(size = [2.4000000000, 40]);\n",
      "\t\t\t\t\t}\n",
      "\t\t\t\t\tsquare(size = [46.0000000000, 2.4000000000]);\n",
      "\t\t\t\t}\n",
      "\t\t\t}\n",
      "\t\t}\n",
      "\t\tdifference() {\n",
      "\t\t\ttranslate(v = [46.0000000000, 20.0000000000]) {\n",
      "\t\t\t\tcircle($fn = 100, d = 40);\n",
      "\t\t\t}\n",
      "\t\t\ttranslate(v = [46.0000000000, 20.0000000000]) {\n",
      "\t\t\t\tcircle($fn = 100, d = 35.2000000000);\n",
      "\t\t\t}\n",
      "\t\t\ttranslate(v = [36.0000000000, 20.0000000000]) {\n",
      "\t\t\t\tsquare(center = true, size = [20.0000000000, 40]);\n",
      "\t\t\t}\n",
      "\t\t}\n",
      "\t\ttranslate(v = [26, 37.6000000000]) {\n",
      "\t\t\tsquare(size = [20.0000000000, 2.4000000000]);\n",
      "\t\t}\n",
      "\t\ttranslate(v = [26, 7.4000000000]) {\n",
      "\t\t\tsquare(size = [2.4000000000, 32.6000000000]);\n",
      "\t\t}\n",
      "\t}\n",
      "}\n"
     ]
    }
   ],
   "source": [
    "print(scad_render(complete))"
   ]
  },
  {
   "cell_type": "code",
   "execution_count": 126,
   "metadata": {},
   "outputs": [
    {
     "data": {
      "text/plain": [
       "'/Users/peter/projects/py-open-scad/newclamp1.scad'"
      ]
     },
     "execution_count": 126,
     "metadata": {},
     "output_type": "execute_result"
    }
   ],
   "source": [
    "scad_render_to_file(complete, \"newclamp1.scad\")"
   ]
  },
  {
   "cell_type": "code",
   "execution_count": null,
   "metadata": {},
   "outputs": [],
   "source": [
    "!openscad "
   ]
  }
 ],
 "metadata": {
  "kernelspec": {
   "display_name": "Python 3.8.13 ('py-open-scad')",
   "language": "python",
   "name": "python3"
  },
  "language_info": {
   "codemirror_mode": {
    "name": "ipython",
    "version": 3
   },
   "file_extension": ".py",
   "mimetype": "text/x-python",
   "name": "python",
   "nbconvert_exporter": "python",
   "pygments_lexer": "ipython3",
   "version": "3.8.13"
  },
  "orig_nbformat": 4,
  "vscode": {
   "interpreter": {
    "hash": "ee3447709a83cb0ad9f1aaf45cfc11dd0d0647705bb4725ccc6e0b8685aff5f7"
   }
  }
 },
 "nbformat": 4,
 "nbformat_minor": 2
}
